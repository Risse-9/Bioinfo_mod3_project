{
 "cells": [
  {
   "cell_type": "code",
   "execution_count": 1,
   "metadata": {},
   "outputs": [],
   "source": [
    "import pandas as pd\n",
    "import matplotlib.pyplot as plt"
   ]
  },
  {
   "cell_type": "code",
   "execution_count": 10,
   "metadata": {},
   "outputs": [
    {
     "data": {
      "text/html": [
       "<div>\n",
       "<style scoped>\n",
       "    .dataframe tbody tr th:only-of-type {\n",
       "        vertical-align: middle;\n",
       "    }\n",
       "\n",
       "    .dataframe tbody tr th {\n",
       "        vertical-align: top;\n",
       "    }\n",
       "\n",
       "    .dataframe thead th {\n",
       "        text-align: right;\n",
       "    }\n",
       "</style>\n",
       "<table border=\"1\" class=\"dataframe\">\n",
       "  <thead>\n",
       "    <tr style=\"text-align: right;\">\n",
       "      <th></th>\n",
       "      <th>qseqid</th>\n",
       "      <th>sseqid</th>\n",
       "      <th>pident</th>\n",
       "      <th>alignment_length</th>\n",
       "      <th>mismatches</th>\n",
       "      <th>gap_opens</th>\n",
       "      <th>q_start</th>\n",
       "      <th>q_end</th>\n",
       "      <th>s_start</th>\n",
       "      <th>s_end</th>\n",
       "      <th>evalue</th>\n",
       "      <th>bit_score</th>\n",
       "    </tr>\n",
       "  </thead>\n",
       "  <tbody>\n",
       "    <tr>\n",
       "      <th>0</th>\n",
       "      <td>U00096.3</td>\n",
       "      <td>gb|U00096.1|+|2484373-2487967|ARO:3000833|evgS</td>\n",
       "      <td>100.000</td>\n",
       "      <td>3594</td>\n",
       "      <td>0</td>\n",
       "      <td>0</td>\n",
       "      <td>2484374</td>\n",
       "      <td>2487967</td>\n",
       "      <td>1</td>\n",
       "      <td>3594</td>\n",
       "      <td>0.0</td>\n",
       "      <td>6637</td>\n",
       "    </tr>\n",
       "    <tr>\n",
       "      <th>1</th>\n",
       "      <td>U00096.3</td>\n",
       "      <td>gb|U00096.3|-|481253-484403|ARO:3000216|acrB</td>\n",
       "      <td>100.000</td>\n",
       "      <td>3150</td>\n",
       "      <td>0</td>\n",
       "      <td>0</td>\n",
       "      <td>481254</td>\n",
       "      <td>484403</td>\n",
       "      <td>3150</td>\n",
       "      <td>1</td>\n",
       "      <td>0.0</td>\n",
       "      <td>5818</td>\n",
       "    </tr>\n",
       "    <tr>\n",
       "      <th>2</th>\n",
       "      <td>U00096.3</td>\n",
       "      <td>gb|U00096.3|-|481253-484403|ARO:3000216|acrB</td>\n",
       "      <td>73.758</td>\n",
       "      <td>3140</td>\n",
       "      <td>724</td>\n",
       "      <td>89</td>\n",
       "      <td>3415042</td>\n",
       "      <td>3418129</td>\n",
       "      <td>9</td>\n",
       "      <td>3100</td>\n",
       "      <td>0.0</td>\n",
       "      <td>1142</td>\n",
       "    </tr>\n",
       "    <tr>\n",
       "      <th>3</th>\n",
       "      <td>U00096.3</td>\n",
       "      <td>gb|U00096.1|+|2155262-2158385|ARO:3000793|mdtB</td>\n",
       "      <td>100.000</td>\n",
       "      <td>3123</td>\n",
       "      <td>0</td>\n",
       "      <td>0</td>\n",
       "      <td>2155263</td>\n",
       "      <td>2158385</td>\n",
       "      <td>1</td>\n",
       "      <td>3123</td>\n",
       "      <td>0.0</td>\n",
       "      <td>5768</td>\n",
       "    </tr>\n",
       "    <tr>\n",
       "      <th>4</th>\n",
       "      <td>U00096.3</td>\n",
       "      <td>gb|AP009048.1|+|2586250-2589364|ARO:3000491|acrD</td>\n",
       "      <td>100.000</td>\n",
       "      <td>3114</td>\n",
       "      <td>0</td>\n",
       "      <td>0</td>\n",
       "      <td>2587595</td>\n",
       "      <td>2590708</td>\n",
       "      <td>1</td>\n",
       "      <td>3114</td>\n",
       "      <td>0.0</td>\n",
       "      <td>5751</td>\n",
       "    </tr>\n",
       "  </tbody>\n",
       "</table>\n",
       "</div>"
      ],
      "text/plain": [
       "     qseqid                                            sseqid   pident  \\\n",
       "0  U00096.3    gb|U00096.1|+|2484373-2487967|ARO:3000833|evgS  100.000   \n",
       "1  U00096.3      gb|U00096.3|-|481253-484403|ARO:3000216|acrB  100.000   \n",
       "2  U00096.3      gb|U00096.3|-|481253-484403|ARO:3000216|acrB   73.758   \n",
       "3  U00096.3    gb|U00096.1|+|2155262-2158385|ARO:3000793|mdtB  100.000   \n",
       "4  U00096.3  gb|AP009048.1|+|2586250-2589364|ARO:3000491|acrD  100.000   \n",
       "\n",
       "   alignment_length  mismatches  gap_opens  q_start    q_end  s_start  s_end  \\\n",
       "0              3594           0          0  2484374  2487967        1   3594   \n",
       "1              3150           0          0   481254   484403     3150      1   \n",
       "2              3140         724         89  3415042  3418129        9   3100   \n",
       "3              3123           0          0  2155263  2158385        1   3123   \n",
       "4              3114           0          0  2587595  2590708        1   3114   \n",
       "\n",
       "   evalue  bit_score  \n",
       "0     0.0       6637  \n",
       "1     0.0       5818  \n",
       "2     0.0       1142  \n",
       "3     0.0       5768  \n",
       "4     0.0       5751  "
      ]
     },
     "execution_count": 10,
     "metadata": {},
     "output_type": "execute_result"
    }
   ],
   "source": [
    "#Load BLAST output file\n",
    "GCA5845_df = pd.read_csv('GCA_000005845.2_ASM584v2_genomic_blast_results.txt', delimiter='\\t', header=None)\n",
    "\n",
    "# Assign column names \n",
    "GCA5845_df.columns = ['qseqid', 'sseqid', 'pident', 'alignment_length', 'mismatches', 'gap_opens', 'q_start', 'q_end', 's_start', 's_end', 'evalue', 'bit_score']\n",
    "\n",
    "GCA5845_df.head()"
   ]
  },
  {
   "cell_type": "code",
   "execution_count": 11,
   "metadata": {},
   "outputs": [
    {
     "name": "stdout",
     "output_type": "stream",
     "text": [
      "Filtered Results: 53 rows\n"
     ]
    }
   ],
   "source": [
    "# Filter for genes with >/= 90 percentage identity\n",
    "filtered_df = GCA5845_df[GCA5845_df['pident'] >= 90]\n",
    "print(f\"Filtered Results: {filtered_df.shape[0]} rows\")"
   ]
  },
  {
   "cell_type": "code",
   "execution_count": 17,
   "metadata": {},
   "outputs": [],
   "source": [
    "# Extract ARO_Index and Gene name from sseqid\n",
    "filtered_df['ARO_Index'] = filtered_df['sseqid'].str.extract(r'ARO:(\\d+)')\n",
    "filtered_df['Gene'] = filtered_df['sseqid'].str.extract(r'\\|ARO:\\d+\\|([^|]+)')\n",
    "\n",
    "# Rename column\n",
    "filtered_df = filtered_df.rename(columns={'qseqid': 'ID'})\n",
    "\n",
    "# Keep relevant columns\n",
    "processed_df = filtered_df[['ID', 'ARO_Index', 'Gene', 'pident', 'alignment_length', 'mismatches', 'gap_opens', 'q_start', 'q_end', 's_start', 's_end', 'evalue', 'bit_score']]\n",
    "\n",
    "# Save filtered and processd data to a new file\n",
    "processed_df.to_csv('processed_GCA5845.2_blast_results.tsv', sep='\\t', index=False)"
   ]
  },
  {
   "cell_type": "markdown",
   "metadata": {},
   "source": [
    "## Visualizations"
   ]
  },
  {
   "cell_type": "code",
   "execution_count": null,
   "metadata": {},
   "outputs": [
    {
     "name": "stdout",
     "output_type": "stream",
     "text": [
      "             Gene  Frequency\n",
      "0            AcrE          1\n",
      "1            AcrF          1\n",
      "2            AcrS          1\n",
      "3             CRP          1\n",
      "4           EC-13          1\n",
      "5           EC-14          1\n",
      "6           EC-15          1\n",
      "7           EC-16          1\n",
      "8           EC-18          1\n",
      "9           EC-19          1\n",
      "10           EC-5          1\n",
      "11           EC-8          1\n",
      "12      Ecol_acrA          1\n",
      "13  Ecol_ampC_BLA          1\n",
      "14      Ecol_emrE          1\n",
      "15      Ecol_mdfA          1\n",
      "16           H-NS          1\n",
      "17      Kpne_KpnH          1\n",
      "18           PmrF          1\n",
      "19      Sfle_acrA          1\n",
      "20           TolC          1\n",
      "21           YojI          1\n",
      "22           acrB          1\n",
      "23           acrD          1\n",
      "24           bacA          1\n",
      "25           cpxA          1\n",
      "26           emrA          1\n",
      "27           emrB          1\n",
      "28           emrK          1\n",
      "29           emrR          1\n",
      "30           emrY          1\n",
      "31           eptA          1\n",
      "32           evgA          1\n",
      "33           evgS          1\n",
      "34           gadW          1\n",
      "35           gadX          1\n",
      "36           kdpE          2\n",
      "37           leuO          1\n",
      "38           marA          1\n",
      "39           mdtA          1\n",
      "40           mdtB          1\n",
      "41           mdtC          1\n",
      "42           mdtE          1\n",
      "43           mdtF          1\n",
      "44           mdtG          1\n",
      "45           mdtH          1\n",
      "46           mdtM          1\n",
      "47           mdtN          1\n",
      "48           mdtO          1\n",
      "49           mdtP          1\n",
      "50           msbA          1\n",
      "51            ugd          1\n"
     ]
    },
    {
     "data": {
      "image/png": "[encoded data removed]",
      "text/plain": [
       "<Figure size 640x480 with 1 Axes>"
      ]
     },
     "metadata": {},
     "output_type": "display_data"
    }
   ],
   "source": [
    "# Visualize distribution of percentage identity\n",
    "processed_df['pident'].hist(bins=20, color='blue')\n",
    "plt.title('Distribution of Percentage Identity')\n",
    "plt.xlabel('% Identity')\n",
    "plt.ylabel('Frequency')\n",
    "plt.show()\n"
   ]
  },
  {
   "cell_type": "markdown",
   "metadata": {},
   "source": [
    "# Classifying AMR Genes"
   ]
  },
  {
   "cell_type": "code",
   "execution_count": null,
   "metadata": {},
   "outputs": [],
   "source": []
  }
 ],
 "metadata": {
  "kernelspec": {
   "display_name": "base",
   "language": "python",
   "name": "python3"
  },
  "language_info": {
   "codemirror_mode": {
    "name": "ipython",
    "version": 3
   },
   "file_extension": ".py",
   "mimetype": "text/x-python",
   "name": "python",
   "nbconvert_exporter": "python",
   "pygments_lexer": "ipython3",
   "version": "3.11.7"
  }
 },
 "nbformat": 4,
 "nbformat_minor": 2
}
