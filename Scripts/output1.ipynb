{
 "cells": [
  {
   "cell_type": "code",
   "execution_count": 2,
   "metadata": {},
   "outputs": [],
   "source": [
    "import pandas as pd"
   ]
  },
  {
   "cell_type": "code",
   "execution_count": 7,
   "metadata": {},
   "outputs": [
    {
     "data": {
      "text/html": [
       "<div>\n",
       "<style scoped>\n",
       "    .dataframe tbody tr th:only-of-type {\n",
       "        vertical-align: middle;\n",
       "    }\n",
       "\n",
       "    .dataframe tbody tr th {\n",
       "        vertical-align: top;\n",
       "    }\n",
       "\n",
       "    .dataframe thead th {\n",
       "        text-align: right;\n",
       "    }\n",
       "</style>\n",
       "<table border=\"1\" class=\"dataframe\">\n",
       "  <thead>\n",
       "    <tr style=\"text-align: right;\">\n",
       "      <th></th>\n",
       "      <th>qseqid</th>\n",
       "      <th>sseqid</th>\n",
       "      <th>pident</th>\n",
       "      <th>alignment_length</th>\n",
       "      <th>mismatches</th>\n",
       "      <th>gap_opens</th>\n",
       "      <th>q_start</th>\n",
       "      <th>q_end</th>\n",
       "      <th>s_start</th>\n",
       "      <th>s_end</th>\n",
       "      <th>evalue</th>\n",
       "      <th>bit_score</th>\n",
       "    </tr>\n",
       "  </thead>\n",
       "  <tbody>\n",
       "    <tr>\n",
       "      <th>0</th>\n",
       "      <td>U00096.3</td>\n",
       "      <td>gb|U00096.1|+|2484373-2487967|ARO:3000833|evgS</td>\n",
       "      <td>100.000</td>\n",
       "      <td>3594</td>\n",
       "      <td>0</td>\n",
       "      <td>0</td>\n",
       "      <td>2484374</td>\n",
       "      <td>2487967</td>\n",
       "      <td>1</td>\n",
       "      <td>3594</td>\n",
       "      <td>0.0</td>\n",
       "      <td>6637</td>\n",
       "    </tr>\n",
       "    <tr>\n",
       "      <th>1</th>\n",
       "      <td>U00096.3</td>\n",
       "      <td>gb|U00096.3|-|481253-484403|ARO:3000216|acrB</td>\n",
       "      <td>100.000</td>\n",
       "      <td>3150</td>\n",
       "      <td>0</td>\n",
       "      <td>0</td>\n",
       "      <td>481254</td>\n",
       "      <td>484403</td>\n",
       "      <td>3150</td>\n",
       "      <td>1</td>\n",
       "      <td>0.0</td>\n",
       "      <td>5818</td>\n",
       "    </tr>\n",
       "    <tr>\n",
       "      <th>2</th>\n",
       "      <td>U00096.3</td>\n",
       "      <td>gb|U00096.3|-|481253-484403|ARO:3000216|acrB</td>\n",
       "      <td>73.758</td>\n",
       "      <td>3140</td>\n",
       "      <td>724</td>\n",
       "      <td>89</td>\n",
       "      <td>3415042</td>\n",
       "      <td>3418129</td>\n",
       "      <td>9</td>\n",
       "      <td>3100</td>\n",
       "      <td>0.0</td>\n",
       "      <td>1142</td>\n",
       "    </tr>\n",
       "    <tr>\n",
       "      <th>3</th>\n",
       "      <td>U00096.3</td>\n",
       "      <td>gb|U00096.1|+|2155262-2158385|ARO:3000793|mdtB</td>\n",
       "      <td>100.000</td>\n",
       "      <td>3123</td>\n",
       "      <td>0</td>\n",
       "      <td>0</td>\n",
       "      <td>2155263</td>\n",
       "      <td>2158385</td>\n",
       "      <td>1</td>\n",
       "      <td>3123</td>\n",
       "      <td>0.0</td>\n",
       "      <td>5768</td>\n",
       "    </tr>\n",
       "    <tr>\n",
       "      <th>4</th>\n",
       "      <td>U00096.3</td>\n",
       "      <td>gb|AP009048.1|+|2586250-2589364|ARO:3000491|acrD</td>\n",
       "      <td>100.000</td>\n",
       "      <td>3114</td>\n",
       "      <td>0</td>\n",
       "      <td>0</td>\n",
       "      <td>2587595</td>\n",
       "      <td>2590708</td>\n",
       "      <td>1</td>\n",
       "      <td>3114</td>\n",
       "      <td>0.0</td>\n",
       "      <td>5751</td>\n",
       "    </tr>\n",
       "  </tbody>\n",
       "</table>\n",
       "</div>"
      ],
      "text/plain": [
       "     qseqid                                            sseqid   pident  \\\n",
       "0  U00096.3    gb|U00096.1|+|2484373-2487967|ARO:3000833|evgS  100.000   \n",
       "1  U00096.3      gb|U00096.3|-|481253-484403|ARO:3000216|acrB  100.000   \n",
       "2  U00096.3      gb|U00096.3|-|481253-484403|ARO:3000216|acrB   73.758   \n",
       "3  U00096.3    gb|U00096.1|+|2155262-2158385|ARO:3000793|mdtB  100.000   \n",
       "4  U00096.3  gb|AP009048.1|+|2586250-2589364|ARO:3000491|acrD  100.000   \n",
       "\n",
       "   alignment_length  mismatches  gap_opens  q_start    q_end  s_start  s_end  \\\n",
       "0              3594           0          0  2484374  2487967        1   3594   \n",
       "1              3150           0          0   481254   484403     3150      1   \n",
       "2              3140         724         89  3415042  3418129        9   3100   \n",
       "3              3123           0          0  2155263  2158385        1   3123   \n",
       "4              3114           0          0  2587595  2590708        1   3114   \n",
       "\n",
       "   evalue  bit_score  \n",
       "0     0.0       6637  \n",
       "1     0.0       5818  \n",
       "2     0.0       1142  \n",
       "3     0.0       5768  \n",
       "4     0.0       5751  "
      ]
     },
     "execution_count": 7,
     "metadata": {},
     "output_type": "execute_result"
    }
   ],
   "source": [
    "#Load BLAST output file\n",
    "blast_df = pd.read_csv('GCA_000005845.2_ASM584v2_genomic_blast_results.txt', delimiter='\\t', header=None)\n",
    "\n",
    "# Assign column names \n",
    "blast_df.columns = ['qseqid', 'sseqid', 'pident', 'alignment_length', 'mismatches', 'gap_opens', 'q_start', 'q_end', 's_start', 's_end', 'evalue', 'bit_score']\n",
    "\n",
    "blast_df.head()"
   ]
  },
  {
   "cell_type": "code",
   "execution_count": 10,
   "metadata": {},
   "outputs": [
    {
     "name": "stdout",
     "output_type": "stream",
     "text": [
      "Filtered Results: 53 rows\n"
     ]
    },
    {
     "data": {
      "text/plain": [
       "(53, 12)"
      ]
     },
     "execution_count": 10,
     "metadata": {},
     "output_type": "execute_result"
    }
   ],
   "source": [
    "filtered_df = blast_df[blast_df['pident'] >= 90]\n",
    "print(f\"Filtered Results: {filtered_df.shape[0]} rows\")\n",
    "\n",
    "# Extract req columns\n",
    "processed_df = filtered_df[['qseqid', 'sseqid', 'pident', 'alignment_length', 'mismatches', 'gap_opens', 'q_start', 'q_end', 's_start', 's_end', 'evalue', 'bit_score']]"
   ]
  },
  {
   "cell_type": "code",
   "execution_count": null,
   "metadata": {},
   "outputs": [],
   "source": [
    "# Save filtered and processd data to a new file\n",
    "processed_df.to_csv('processed_output1_blast_results.tsv', sep='\\t', index=False)"
   ]
  },
  {
   "cell_type": "markdown",
   "metadata": {},
   "source": [
    "### Visualizations"
   ]
  },
  {
   "cell_type": "code",
   "execution_count": null,
   "metadata": {},
   "outputs": [],
   "source": []
  }
 ],
 "metadata": {
  "kernelspec": {
   "display_name": "base",
   "language": "python",
   "name": "python3"
  },
  "language_info": {
   "codemirror_mode": {
    "name": "ipython",
    "version": 3
   },
   "file_extension": ".py",
   "mimetype": "text/x-python",
   "name": "python",
   "nbconvert_exporter": "python",
   "pygments_lexer": "ipython3",
   "version": "3.11.7"
  }
 },
 "nbformat": 4,
 "nbformat_minor": 2
}
